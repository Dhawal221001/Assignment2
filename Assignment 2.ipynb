{
 "cells": [
  {
   "cell_type": "markdown",
   "id": "4516f3c3-b5ba-4ad5-a281-bc8ae7fa7c2b",
   "metadata": {},
   "source": [
    "## Q1. Which keyword is used to create a function? Create a function to return a list of odd numbers in the range of 1 to 25."
   ]
  },
  {
   "cell_type": "markdown",
   "id": "695269ee-800a-4c9b-b4fc-b6fd7d19b5cf",
   "metadata": {},
   "source": [
    "### def"
   ]
  },
  {
   "cell_type": "code",
   "execution_count": 4,
   "id": "34ce56ce-c31f-485b-b1b9-95b6c4ccf94c",
   "metadata": {},
   "outputs": [],
   "source": [
    "def lst_fun():\n",
    "    n=[]\n",
    "    for i in range(1,25):\n",
    "        if i%2!=0:\n",
    "            n.append(i)\n",
    "    return n        "
   ]
  },
  {
   "cell_type": "code",
   "execution_count": 5,
   "id": "26f9215c-954d-4cf6-a92f-d9d2be5f643e",
   "metadata": {},
   "outputs": [
    {
     "data": {
      "text/plain": [
       "[1, 3, 5, 7, 9, 11, 13, 15, 17, 19, 21, 23]"
      ]
     },
     "execution_count": 5,
     "metadata": {},
     "output_type": "execute_result"
    }
   ],
   "source": [
    "lst_fun()"
   ]
  },
  {
   "cell_type": "markdown",
   "id": "bb66a6cd-3d00-43e9-afde-e4bc0806c517",
   "metadata": {},
   "source": [
    "## Q2. Why *args and **kwargs is used in some functions? Create a function each for *args and **kwargs to demonstrate their use."
   ]
  },
  {
   "cell_type": "markdown",
   "id": "51eb0058-5c1f-4207-a875-50367da52b4e",
   "metadata": {},
   "source": [
    "### \"*args\" are used as funtion argument, when we don't know how many arguments have to give.So we can give as many argument as we needed.\n",
    "### \"**kwargs\" are used as funtion arguments, when we want to many number of argumnets and we don't know the number but the argument should be of key and value types."
   ]
  },
  {
   "cell_type": "code",
   "execution_count": 8,
   "id": "e39bc981-20b7-4aaa-abbc-d889b119b5da",
   "metadata": {},
   "outputs": [],
   "source": [
    "def tst1(*args):\n",
    "    sum=0\n",
    "    for i in args:\n",
    "        sum= sum+i\n",
    "    return sum    "
   ]
  },
  {
   "cell_type": "code",
   "execution_count": 9,
   "id": "ffbe42ff-06ba-4e4c-a67f-42c721ff7fc5",
   "metadata": {},
   "outputs": [
    {
     "data": {
      "text/plain": [
       "71"
      ]
     },
     "execution_count": 9,
     "metadata": {},
     "output_type": "execute_result"
    }
   ],
   "source": [
    "tst1(2,55,6,7,1,0)"
   ]
  },
  {
   "cell_type": "code",
   "execution_count": 18,
   "id": "2d4bb810-0be6-4d9f-8adb-63366dba14d8",
   "metadata": {},
   "outputs": [],
   "source": [
    "def tst2(**kwargs):\n",
    "    for i in kwargs:\n",
    "        print(kwargs[i])\n",
    "    return kwargs\n"
   ]
  },
  {
   "cell_type": "code",
   "execution_count": 19,
   "id": "c4dc563f-3dcf-42a5-bc31-bcefde6e181e",
   "metadata": {},
   "outputs": [
    {
     "name": "stdout",
     "output_type": "stream",
     "text": [
      "1\n",
      "2\n",
      "3\n"
     ]
    },
    {
     "data": {
      "text/plain": [
       "{'a': 1, 'b': 2, 'c': 3}"
      ]
     },
     "execution_count": 19,
     "metadata": {},
     "output_type": "execute_result"
    }
   ],
   "source": [
    "tst2(a=1,b=2,c=3)"
   ]
  },
  {
   "cell_type": "markdown",
   "id": "3967936e-5537-4556-a0dc-b1a037bc7ab6",
   "metadata": {},
   "source": [
    "## Q3. What is an iterator in python? Name the method used to initialise the iterator object and the method used for iteration. Use these methods to print the first five elements of the given list [2, 4, 6, 8, 10, 12, 14, 16,18, 20]."
   ]
  },
  {
   "cell_type": "markdown",
   "id": "d5526809-1abb-45e2-8322-dd586ccb8e5f",
   "metadata": {},
   "source": [
    "### An iterator is an object, which can iterate through elements in a sequence one at a time. Helps in creation of efficient and memory saving loops."
   ]
  },
  {
   "cell_type": "markdown",
   "id": "b1420a58-9694-4a5a-b995-dd2b6b2b3536",
   "metadata": {},
   "source": [
    "### method used to initialise the iterator object iter()\n",
    "### for is used for iteration\n"
   ]
  },
  {
   "cell_type": "code",
   "execution_count": 20,
   "id": "80f647b9-15d3-4f8b-ba2b-71878f101d84",
   "metadata": {},
   "outputs": [
    {
     "name": "stdout",
     "output_type": "stream",
     "text": [
      "2\n",
      "4\n",
      "6\n",
      "8\n",
      "10\n"
     ]
    }
   ],
   "source": [
    "lst=[2,4,6,8,10,12,14,16,18,20]\n",
    "lst_iterator=iter(lst)\n",
    "for i in range(1,6):\n",
    "    print(next(lst_iterator))"
   ]
  },
  {
   "cell_type": "markdown",
   "id": "fbac5840-5458-4e40-abc3-da6cd20ab6c6",
   "metadata": {},
   "source": [
    "## Q4. What is a generator function in python? Why yield keyword is used? Give an example of a generator function."
   ]
  },
  {
   "cell_type": "markdown",
   "id": "ce0d72b1-e2c9-4e8e-825d-f0819340b4e4",
   "metadata": {},
   "source": [
    "### Generator function is a function that generates a sequence of values.\n",
    "### When called it return an iterator that can be used to iterate over the values of sequence.\n",
    "\n",
    "\n",
    "### Yield keyword is used in generator function to return values one at a time, which helps in efficient an memory saving processing of large data."
   ]
  },
  {
   "cell_type": "code",
   "execution_count": 21,
   "id": "f02eb3f2-17a5-4278-b187-5d9bee5b292c",
   "metadata": {},
   "outputs": [],
   "source": [
    "def tst3_fib(n):\n",
    "    a,b=0,1\n",
    "    for i in range(n):\n",
    "        yield a\n",
    "        a,b=b,a+b\n",
    "        \n",
    "        "
   ]
  },
  {
   "cell_type": "code",
   "execution_count": 22,
   "id": "b7a6292a-eb14-459d-a9d4-dcef1b7a5a94",
   "metadata": {},
   "outputs": [
    {
     "data": {
      "text/plain": [
       "<generator object tst3_fib at 0x7fd8e42062d0>"
      ]
     },
     "execution_count": 22,
     "metadata": {},
     "output_type": "execute_result"
    }
   ],
   "source": [
    "tst3_fib(15)\n"
   ]
  },
  {
   "cell_type": "code",
   "execution_count": 23,
   "id": "41dc9898-ae5b-4dd9-bfc8-bb5a84efee26",
   "metadata": {},
   "outputs": [
    {
     "name": "stdout",
     "output_type": "stream",
     "text": [
      "0\n",
      "1\n",
      "1\n",
      "2\n",
      "3\n",
      "5\n",
      "8\n",
      "13\n",
      "21\n",
      "34\n",
      "55\n",
      "89\n",
      "144\n",
      "233\n",
      "377\n"
     ]
    }
   ],
   "source": [
    "for i in tst3_fib(15):\n",
    "    print(i)"
   ]
  },
  {
   "cell_type": "markdown",
   "id": "e1fafa0d-2544-4afc-a4f9-43faddadc8ae",
   "metadata": {},
   "source": [
    "## Q5. Create a generator function for prime numbers less than 1000. Use the next() method to print the first 20 prime numbers."
   ]
  },
  {
   "cell_type": "code",
   "execution_count": null,
   "id": "578c6323-c569-40c3-8bda-3e54c1194127",
   "metadata": {},
   "outputs": [],
   "source": []
  },
  {
   "cell_type": "code",
   "execution_count": null,
   "id": "c92beeb1-bf3e-4ae2-a7f5-74a7d9ff0edd",
   "metadata": {},
   "outputs": [],
   "source": []
  }
 ],
 "metadata": {
  "kernelspec": {
   "display_name": "Python 3 (ipykernel)",
   "language": "python",
   "name": "python3"
  },
  "language_info": {
   "codemirror_mode": {
    "name": "ipython",
    "version": 3
   },
   "file_extension": ".py",
   "mimetype": "text/x-python",
   "name": "python",
   "nbconvert_exporter": "python",
   "pygments_lexer": "ipython3",
   "version": "3.10.8"
  }
 },
 "nbformat": 4,
 "nbformat_minor": 5
}
